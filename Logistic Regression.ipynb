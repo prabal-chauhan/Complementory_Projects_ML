{
 "cells": [
  {
   "cell_type": "markdown",
   "metadata": {},
   "source": [
    "# Project - Initial State"
   ]
  },
  {
   "cell_type": "code",
   "execution_count": 1,
   "metadata": {},
   "outputs": [],
   "source": [
    "import numpy as np\n",
    "import matplotlib.pyplot as plt"
   ]
  },
  {
   "cell_type": "code",
   "execution_count": 2,
   "metadata": {},
   "outputs": [
    {
     "data": {
      "text/plain": [
       "array([[10.9158583 , 12.07932466],\n",
       "       [11.33179114, 16.96944463],\n",
       "       [12.35904999, 10.86840452],\n",
       "       [ 7.39426189, 10.07990984],\n",
       "       [ 8.92827418, 11.95701426],\n",
       "       [ 9.67804074, 11.87558786],\n",
       "       [11.70950298,  9.83798463],\n",
       "       [ 7.67311386,  8.0637673 ],\n",
       "       [ 9.09364063, 12.4432145 ],\n",
       "       [11.61181597, 14.26620363]])"
      ]
     },
     "execution_count": 2,
     "metadata": {},
     "output_type": "execute_result"
    }
   ],
   "source": [
    "n_pts=10\n",
    "random_x1_values = np.random.normal(10, 2, n_pts)\n",
    "random_x2_values = np.random.normal(12, 2, n_pts)\n",
    "top_region = np.array([random_x1_values, random_x2_values]).T\n",
    "top_region"
   ]
  },
  {
   "cell_type": "code",
   "execution_count": 8,
   "metadata": {},
   "outputs": [
    {
     "data": {
      "image/png": "[encoded data removed]",
      "text/plain": [
       "<Figure size 288x288 with 1 Axes>"
      ]
     },
     "metadata": {
      "needs_background": "light"
     },
     "output_type": "display_data"
    }
   ],
   "source": [
    "n_pts=10\n",
    "random_x1_values = np.random.normal(10, 2, n_pts)\n",
    "random_x2_values = np.random.normal(12, 2, n_pts)\n",
    "top_region = np.array([random_x1_values, random_x2_values]).T\n",
    "_, ax = plt.subplots(figsize=(4, 4))\n",
    "ax.scatter(top_region[:, 0], top_region[:, 1], color = 'r')\n",
    "plt.show()"
   ]
  },
  {
   "cell_type": "code",
   "execution_count": 9,
   "metadata": {},
   "outputs": [
    {
     "data": {
      "image/png": "[encoded data removed]",
      "text/plain": [
       "<Figure size 288x288 with 1 Axes>"
      ]
     },
     "metadata": {
      "needs_background": "light"
     },
     "output_type": "display_data"
    }
   ],
   "source": [
    "n_pts=100\n",
    "np.random.seed(0)\n",
    "top_region=np.array([np.random.normal(10,2,n_pts), np.random.normal(12,2,n_pts)]).T\n",
    "bottom_region= np.array([np.random.normal(5,2, n_pts), np.random.normal(6,2, n_pts)]).T\n",
    "_, ax= plt.subplots(figsize=(4,4))\n",
    "ax.scatter(top_region[:,0], top_region[:,1], color='r')\n",
    "ax.scatter(bottom_region[:,0], bottom_region[:,1], color='b')\n",
    "\n",
    "plt.show()"
   ]
  },
  {
   "cell_type": "markdown",
   "metadata": {},
   "source": [
    "# Classification - Linear Model"
   ]
  },
  {
   "cell_type": "code",
   "execution_count": 13,
   "metadata": {},
   "outputs": [],
   "source": [
    "def draw(x1,x2):\n",
    "  ln=plt.plot(x1,x2)"
   ]
  },
  {
   "cell_type": "code",
   "execution_count": 14,
   "metadata": {},
   "outputs": [
    {
     "name": "stdout",
     "output_type": "stream",
     "text": [
      "[-0.54518551 14.53950925] [10.31153458  1.691709  ]\n"
     ]
    }
   ],
   "source": [
    "n_pts=100\n",
    "np.random.seed(0)\n",
    "bias= np.ones(n_pts)\n",
    "top_region=np.array([np.random.normal(10,2,n_pts), np.random.normal(12,2,n_pts), bias]).T\n",
    "bottom_region= np.array([np.random.normal(5,2, n_pts), np.random.normal(6,2, n_pts), bias]).T\n",
    "all_points=np.vstack((top_region, bottom_region))\n",
    "w1=-0.2\n",
    "w2=-0.35\n",
    "b=3.5\n",
    "line_paramters = np.matrix([w1,w2,b]).T\n",
    "x1=np.array([bottom_region[:,0].min(), top_region[:,0].max()])\n",
    "x2= -b/w2 + (x1*(-w1/w2))\n",
    "print(x1,x2)"
   ]
  },
  {
   "cell_type": "code",
   "execution_count": 16,
   "metadata": {},
   "outputs": [
    {
     "data": {
      "image/png": "[encoded data removed]",
      "text/plain": [
       "<Figure size 288x288 with 1 Axes>"
      ]
     },
     "metadata": {
      "needs_background": "light"
     },
     "output_type": "display_data"
    }
   ],
   "source": [
    "_, ax= plt.subplots(figsize=(4,4))\n",
    "ax.scatter(top_region[:,0], top_region[:,1], color='r')\n",
    "ax.scatter(bottom_region[:,0], bottom_region[:,1], color='b')\n",
    "draw(x1,x2)\n",
    "plt.show()"
   ]
  },
  {
   "cell_type": "code",
   "execution_count": 17,
   "metadata": {},
   "outputs": [],
   "source": [
    "def draw(x1,x2):\n",
    "  ln=plt.plot(x1,x2)"
   ]
  },
  {
   "cell_type": "code",
   "execution_count": 26,
   "metadata": {},
   "outputs": [
    {
     "data": {
      "text/plain": [
       "matrix([[-3.50645144],\n",
       "        [-3.87805434],\n",
       "        [-3.6242216 ],\n",
       "        [-3.68152979],\n",
       "        [-3.75772746],\n",
       "        [-2.54266088],\n",
       "        [-4.12589072],\n",
       "        [-2.49584633],\n",
       "        [-2.87785985],\n",
       "        [-2.26637238],\n",
       "        [ 1.31273273],\n",
       "        [-0.1261612 ],\n",
       "        [ 0.67567554],\n",
       "        [ 2.08342354],\n",
       "        [-0.26436335],\n",
       "        [ 0.87230199],\n",
       "        [-0.47950688],\n",
       "        [-0.36679235],\n",
       "        [ 0.05801709],\n",
       "        [ 0.02386842]])"
      ]
     },
     "execution_count": 26,
     "metadata": {},
     "output_type": "execute_result"
    }
   ],
   "source": [
    "n_pts=10\n",
    "np.random.seed(0)\n",
    "bias= np.ones(n_pts)\n",
    "top_region=np.array([np.random.normal(10,2,n_pts), np.random.normal(12,2,n_pts), bias]).T\n",
    "bottom_region= np.array([np.random.normal(5,2, n_pts), np.random.normal(6,2, n_pts), bias]).T\n",
    "all_points=np.vstack((top_region, bottom_region))\n",
    "w1=-0.2\n",
    "w2=-0.35\n",
    "b=3.5\n",
    "line_parameters = np.matrix([w1,w2,b]).T\n",
    "x1=np.array([bottom_region[:,0].min(), top_region[:,0].max()])\n",
    "x2= -b/w2 + x1*(-w1/w2)\n",
    "linear_combination = all_points*line_parameters\n",
    "linear_combination"
   ]
  },
  {
   "cell_type": "code",
   "execution_count": 27,
   "metadata": {},
   "outputs": [
    {
     "data": {
      "image/png": "[encoded data removed]",
      "text/plain": [
       "<Figure size 288x288 with 1 Axes>"
      ]
     },
     "metadata": {
      "needs_background": "light"
     },
     "output_type": "display_data"
    }
   ],
   "source": [
    "_, ax= plt.subplots(figsize=(4,4))\n",
    "ax.scatter(top_region[:,0], top_region[:,1], color='r')\n",
    "ax.scatter(bottom_region[:,0], bottom_region[:,1], color='b')\n",
    "draw(x1,x2)\n",
    "plt.show()"
   ]
  },
  {
   "cell_type": "markdown",
   "metadata": {},
   "source": [
    "# Sigmoid Function"
   ]
  },
  {
   "cell_type": "code",
   "execution_count": 28,
   "metadata": {},
   "outputs": [],
   "source": [
    "def draw(x1,x2):\n",
    "  ln=plt.plot(x1,x2)"
   ]
  },
  {
   "cell_type": "code",
   "execution_count": 29,
   "metadata": {},
   "outputs": [],
   "source": [
    "def sigmoid(score):\n",
    "  return 1/(1+np.exp(-score))"
   ]
  },
  {
   "cell_type": "code",
   "execution_count": 31,
   "metadata": {},
   "outputs": [
    {
     "name": "stdout",
     "output_type": "stream",
     "text": [
      "[[0.02912922]\n",
      " [0.0202716 ]\n",
      " [0.02597705]\n",
      " [0.02456574]\n",
      " [0.02280453]\n",
      " [0.07292108]\n",
      " [0.01589245]\n",
      " [0.07614988]\n",
      " [0.05325894]\n",
      " [0.09394654]\n",
      " [0.78797008]\n",
      " [0.46850147]\n",
      " [0.66277284]\n",
      " [0.88928156]\n",
      " [0.43429141]\n",
      " [0.70522447]\n",
      " [0.38236857]\n",
      " [0.40931633]\n",
      " [0.5145002 ]\n",
      " [0.50596682]]\n"
     ]
    }
   ],
   "source": [
    "n_pts=10\n",
    "np.random.seed(0)\n",
    "bias= np.ones(n_pts)\n",
    "top_region=np.array([np.random.normal(10,2,n_pts), np.random.normal(12,2,n_pts), bias]).T\n",
    "bottom_region= np.array([np.random.normal(5,2, n_pts), np.random.normal(6,2, n_pts), bias]).T\n",
    "all_points=np.vstack((top_region, bottom_region))\n",
    "w1=-0.2\n",
    "w2=-0.35\n",
    "b=3.5\n",
    "line_paramters = np.matrix([w1,w2,b]).T\n",
    "x1=np.array([bottom_region[:,0].min(), top_region[:,0].max()])\n",
    "x2= -b/w2 + (x1*(-w1/w2))\n",
    "linear_combination= all_points*line_paramters \n",
    "probabilities= sigmoid(linear_combination)\n",
    "print(probabilities)"
   ]
  },
  {
   "cell_type": "code",
   "execution_count": 32,
   "metadata": {},
   "outputs": [
    {
     "data": {
      "image/png": "[encoded data removed]",
      "text/plain": [
       "<Figure size 288x288 with 1 Axes>"
      ]
     },
     "metadata": {
      "needs_background": "light"
     },
     "output_type": "display_data"
    }
   ],
   "source": [
    "_, ax= plt.subplots(figsize=(4,4))\n",
    "ax.scatter(top_region[:,0], top_region[:,1], color='r')\n",
    "ax.scatter(bottom_region[:,0], bottom_region[:,1], color='b')\n",
    "draw(x1,x2)\n",
    "plt.show()"
   ]
  },
  {
   "cell_type": "markdown",
   "metadata": {},
   "source": [
    "# Cross Entropy"
   ]
  },
  {
   "cell_type": "code",
   "execution_count": 5,
   "metadata": {},
   "outputs": [],
   "source": [
    "import numpy as np\n",
    "import matplotlib.pyplot as plt"
   ]
  },
  {
   "cell_type": "code",
   "execution_count": 7,
   "metadata": {},
   "outputs": [],
   "source": [
    "def draw(x1,x2):\n",
    "  ln=plt.plot(x1,x2)\n",
    "\n",
    "def sigmoid(score):\n",
    "  return 1/(1+np.exp(-score))"
   ]
  },
  {
   "cell_type": "code",
   "execution_count": 8,
   "metadata": {},
   "outputs": [],
   "source": [
    "def calculate_error(line_parameters, points , y):\n",
    "  n=points.shape[0]\n",
    "  p= sigmoid(points*line_parameters)\n",
    "  cross_entropy=-(1/n)*(np.log(p).T*y + np.log(1-p).T*(1-y))\n",
    "  return cross_entropy"
   ]
  },
  {
   "cell_type": "code",
   "execution_count": 9,
   "metadata": {},
   "outputs": [
    {
     "data": {
      "image/png": "[encoded data removed]",
      "text/plain": [
       "<Figure size 288x288 with 1 Axes>"
      ]
     },
     "metadata": {
      "needs_background": "light"
     },
     "output_type": "display_data"
    }
   ],
   "source": [
    "n_pts=10\n",
    "np.random.seed(0)\n",
    "bias= np.ones(n_pts)\n",
    "top_region=np.array([np.random.normal(10,2,n_pts), np.random.normal(12,2,n_pts), bias]).T\n",
    "bottom_region= np.array([np.random.normal(5,2, n_pts), np.random.normal(6,2, n_pts), bias]).T\n",
    "all_points=np.vstack((top_region, bottom_region))\n",
    "w1=-0.1\n",
    "w2=-0.15\n",
    "b=0\n",
    "line_parameters = np.matrix([w1,w2,b]).T\n",
    "x1=np.array([bottom_region[:,0].min(), top_region[:,0].max()])\n",
    "x2= -b/w2 + (x1*(-w1/w2))\n",
    "y=np.array([np.zeros(n_pts), np.ones(n_pts)]).reshape(n_pts*2, 1)\n",
    "\n",
    "_, ax= plt.subplots(figsize=(4,4))\n",
    "ax.scatter(top_region[:,0], top_region[:,1], color='r')\n",
    "ax.scatter(bottom_region[:,0], bottom_region[:,1], color='b')\n",
    "draw(x1,x2)\n",
    "plt.show()"
   ]
  },
  {
   "cell_type": "code",
   "execution_count": 10,
   "metadata": {},
   "outputs": [
    {
     "name": "stdout",
     "output_type": "stream",
     "text": [
      "[[0.84528472]]\n"
     ]
    }
   ],
   "source": [
    "print((calculate_error(line_parameters, all_points, y)))"
   ]
  },
  {
   "cell_type": "markdown",
   "metadata": {},
   "source": [
    "# Gradient Descent(Minimising the Error Function)"
   ]
  },
  {
   "cell_type": "code",
   "execution_count": 11,
   "metadata": {},
   "outputs": [],
   "source": [
    "import numpy as np\n",
    "import matplotlib.pyplot as plt"
   ]
  },
  {
   "cell_type": "code",
   "execution_count": 12,
   "metadata": {},
   "outputs": [],
   "source": [
    "def draw(x1,x2):\n",
    "  ln=plt.plot(x1,x2)\n",
    "def sigmoid(score):\n",
    "  return 1/(1+np.exp(-score))\n",
    "def calculate_error(line_parameters, points , y):\n",
    "  n=points.shape[0]\n",
    "  p= sigmoid(points*line_parameters)\n",
    "  cross_entropy=-(1/n)*(np.log(p).T*y + np.log(1-p).T*(1-y))\n",
    "  return cross_entropy"
   ]
  },
  {
   "cell_type": "code",
   "execution_count": 13,
   "metadata": {},
   "outputs": [],
   "source": [
    "def gradient_descent(line_parameters, points, y , alpha):\n",
    "  n=points.shape[0]\n",
    "  for i in range(2000):\n",
    "    p=sigmoid(points*line_parameters)\n",
    "    gradient= points.T*(p-y)*(alpha/n)\n",
    "    line_parameters = line_parameters - gradient\n",
    "    \n",
    "    w1=line_parameters.item(0)\n",
    "    w2=line_parameters.item(1)\n",
    "    b=line_parameters.item(2)\n",
    "    \n",
    "    x1=np.array([points[:,0].min(), points[:,0].max()])\n",
    "    x2= -b/w2 + (x1*(-w1/w2))\n",
    "  draw(x1,x2) "
   ]
  },
  {
   "cell_type": "code",
   "execution_count": 14,
   "metadata": {},
   "outputs": [
    {
     "data": {
      "image/png": "[encoded data removed]",
      "text/plain": [
       "<Figure size 288x288 with 1 Axes>"
      ]
     },
     "metadata": {
      "needs_background": "light"
     },
     "output_type": "display_data"
    }
   ],
   "source": [
    "n_pts=100\n",
    "np.random.seed(0)\n",
    "bias= np.ones(n_pts)\n",
    "top_region=np.array([np.random.normal(10,2,n_pts), np.random.normal(12,2,n_pts), bias]).T\n",
    "bottom_region= np.array([np.random.normal(5,2, n_pts), np.random.normal(6,2, n_pts), bias]).T\n",
    "all_points=np.vstack((top_region, bottom_region))\n",
    "\n",
    "line_parameters = np.matrix([np.zeros(3)]).T\n",
    "# x1=np.array([bottom_region[:,0].min(), top_region[:,0].max()])\n",
    "# x2= -b/w2 + (x1*(-w1/w2))\n",
    "y=np.array([np.zeros(n_pts), np.ones(n_pts)]).reshape(n_pts*2, 1)\n",
    "\n",
    "_, ax= plt.subplots(figsize=(4,4))\n",
    "ax.scatter(top_region[:,0], top_region[:,1], color='r')\n",
    "ax.scatter(bottom_region[:,0], bottom_region[:,1], color='b')\n",
    "gradient_descent(line_parameters, all_points, y , 0.06)\n",
    "plt.show()"
   ]
  },
  {
   "cell_type": "markdown",
   "metadata": {},
   "source": [
    "# Conclusion:-"
   ]
  },
  {
   "cell_type": "markdown",
   "metadata": {},
   "source": [
    "##### We have trained our perceptron model such that it generate minimal error function.\n",
    "##### We used the Neural Network trained perceptron to predict steering angles for a autonomous vehicle to drive on its own according to which part of track its currently in."
   ]
  },
  {
   "cell_type": "code",
   "execution_count": null,
   "metadata": {},
   "outputs": [],
   "source": []
  }
 ],
 "metadata": {
  "kernelspec": {
   "display_name": "Python 3",
   "language": "python",
   "name": "python3"
  },
  "language_info": {
   "codemirror_mode": {
    "name": "ipython",
    "version": 3
   },
   "file_extension": ".py",
   "mimetype": "text/x-python",
   "name": "python",
   "nbconvert_exporter": "python",
   "pygments_lexer": "ipython3",
   "version": "3.7.3"
  }
 },
 "nbformat": 4,
 "nbformat_minor": 2
}
